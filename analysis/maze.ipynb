{
 "cells": [
  {
   "cell_type": "markdown",
   "metadata": {},
   "source": [
    "# Solving a Cereal Box Maze"
   ]
  },
  {
   "cell_type": "code",
   "execution_count": 1,
   "metadata": {},
   "outputs": [],
   "source": [
    "from PIL import Image\n",
    "import numpy as np\n",
    "\n",
    "# Open the image\n",
    "image = Image.open('tony-tiger.jpg')\n",
    "print(np.array(image).shape)"
   ]
  },
  {
   "cell_type": "code",
   "execution_count": 2,
   "metadata": {
    "scrolled": true
   },
   "outputs": [],
   "source": [
    "# original image\n",
    "# image"
   ]
  },
  {
   "cell_type": "code",
   "execution_count": 3,
   "metadata": {},
   "outputs": [],
   "source": [
    "# examining pixel values that make up the path\n",
    "path_pixels = np.array(image.crop((130,550,145,560)))\n",
    "path_pixels_ = []\n",
    "\n",
    "for row in path_pixels:\n",
    "    row = [np.mean(x) for x in row]\n",
    "    path_pixels_.append(row)"
   ]
  },
  {
   "cell_type": "code",
   "execution_count": 4,
   "metadata": {},
   "outputs": [],
   "source": [
    "# examining pixel values that make up the barriers\n",
    "barrier = []\n",
    "bar = np.array(image.crop((398,440,400,450)))\n",
    "\n",
    "for row in bar:\n",
    "    row = [np.mean(x) for x in row]\n",
    "    barrier.append(row)"
   ]
  },
  {
   "cell_type": "code",
   "execution_count": 5,
   "metadata": {},
   "outputs": [],
   "source": [
    "# barrier and path range for dfs\n",
    "pr = [x for r in path_pixels_ for x in r]\n",
    "path_range = [int(min(pr)),int(max(pr))] # taken from analyzing pixels on path\n",
    "\n",
    "bar_range = [73,83] # taken from analyzing pixels of barrier\n",
    "print(path_range, bar_range)"
   ]
  },
  {
   "cell_type": "code",
   "execution_count": 6,
   "metadata": {
    "scrolled": true
   },
   "outputs": [],
   "source": [
    "# target bowl\n",
    "b = image.crop((240,430,260,460))\n",
    "b = np.array(b)\n",
    "bowl = []\n",
    "\n",
    "for row in np.array(b):\n",
    "    row = [np.mean(x) for x in row]\n",
    "    bowl.append(row)\n",
    "\n",
    "bowl_range = (87,99) # from analyzing bowl pixels\n",
    "end = (445,250)"
   ]
  },
  {
   "cell_type": "code",
   "execution_count": 7,
   "metadata": {},
   "outputs": [],
   "source": [
    "# transform the graph as a 2d matrix\n",
    "maze = []\n",
    "for row in np.array(image):\n",
    "    row = [np.mean(x) for x in row]\n",
    "    maze.append(row)"
   ]
  },
  {
   "cell_type": "code",
   "execution_count": 8,
   "metadata": {},
   "outputs": [],
   "source": [
    "# approximating the starting point by the white arrow\n",
    "begin = (555,133)"
   ]
  },
  {
   "cell_type": "code",
   "execution_count": 12,
   "metadata": {},
   "outputs": [],
   "source": [
    "# dfs\n",
    "\n",
    "def matrix_to_graph(mat):\n",
    "    \n",
    "    m = len(mat)\n",
    "    n = len(mat[0]) if m else 0\n",
    "    graph = {}\n",
    "    for i in range(m):\n",
    "        for j in range(n):\n",
    "            if path_range[0]<=mat[i][j]<=path_range[1]:\n",
    "                graph[(i,j)] = []\n",
    "                \n",
    "    for i, j in graph.keys():\n",
    "        if i - 1 >= 0 and i - 1 < m - 1 and path_range[0]<=mat[i - 1][j]<=path_range[1]:\n",
    "            graph[(i, j)].append((\"up\", (i - 1, j)))\n",
    "        if j - 1 >= 0 and j < n - 1 and path_range[0]<=mat[i][j - 1]<=path_range[1]:\n",
    "            graph[(i, j)].append((\"left\", (i, j - 1)))\n",
    "        if i + 1 >= 0 and i + 1 < m - 1 and path_range[0]<=mat[i + 1][j]<=path_range[1]:\n",
    "            graph[(i, j)].append((\"down\", (i + 1, j)))\n",
    "        if j + 1 >= 0 and j < n - 1 and path_range[0]<=mat[i][j + 1]<=path_range[1]:\n",
    "            graph[(i, j)].append((\"right\", (i, j + 1)))\n",
    "    return graph\n",
    "\n",
    "\n",
    "def dfs(maze, begin, end):\n",
    "    final_path = []\n",
    "    s, g = begin, end\n",
    "    stack = [(\"\", s)]\n",
    "    seen = set()\n",
    "    graph = matrix_to_graph(maze)\n",
    "    while stack:\n",
    "        path, step = stack.pop()\n",
    "        if step in seen:\n",
    "            continue\n",
    "        seen.add(step)\n",
    "        for a, b in graph[step]:\n",
    "            stack.append((path + a, b))\n",
    "            final_path.append(b)\n",
    "    return final_path\n",
    "\n",
    "# refer to http://bryukh.com/labyrinth-algorithms/ for more in depth detail\n",
    "# thanks to Michael Higgins for further help"
   ]
  },
  {
   "cell_type": "code",
   "execution_count": 13,
   "metadata": {},
   "outputs": [
    {
     "data": {
      "text/plain": [
       "250384"
      ]
     },
     "execution_count": 13,
     "metadata": {},
     "output_type": "execute_result"
    }
   ],
   "source": [
    "path = dfs(maze, begin, end)\n",
    "len(path)"
   ]
  },
  {
   "cell_type": "code",
   "execution_count": 11,
   "metadata": {},
   "outputs": [],
   "source": [
    "# # imposing the path over the maze\n",
    "# img_for_plot = np.array(image)\n",
    "\n",
    "# for i in range(len(path)):\n",
    "#     img_for_plot[path[i][0]][path[i][1]] = [0,0,0]\n",
    "#     if i%1000==0:\n",
    "#         Image.fromarray(img_for_plot).save(\"maze_\" + str(i) + \".png\")"
   ]
  }
 ],
 "metadata": {
  "kernelspec": {
   "display_name": "Python 3",
   "language": "python",
   "name": "python3"
  },
  "language_info": {
   "codemirror_mode": {
    "name": "ipython",
    "version": 3
   },
   "file_extension": ".py",
   "mimetype": "text/x-python",
   "name": "python",
   "nbconvert_exporter": "python",
   "pygments_lexer": "ipython3",
   "version": "3.6.10"
  }
 },
 "nbformat": 4,
 "nbformat_minor": 4
}
